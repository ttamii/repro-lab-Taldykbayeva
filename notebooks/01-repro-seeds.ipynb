{
 "cells": [
  {
   "cell_type": "markdown",
   "id": "11c1ecf8",
   "metadata": {},
   "source": [
    "Импорты и настройка"
   ]
  },
  {
   "cell_type": "code",
   "execution_count": null,
   "id": "2d9f33cc",
   "metadata": {
    "vscode": {
     "languageId": "plaintext"
    }
   },
   "outputs": [],
   "source": [
    "import sys\n",
    "import json\n",
    "from pathlib import Path\n",
    "\n",
    "# Добавляем корневую папку проекта в системный путь,\n",
    "# чтобы можно было импортировать модули из папки src\n",
    "if '..' not in sys.path:\n",
    "    sys.path.insert(0, '..')\n",
    "\n",
    "# Теперь импорт сработает\n",
    "from src import train"
   ]
  },
  {
   "cell_type": "markdown",
   "id": "64138b39",
   "metadata": {},
   "source": [
    "Первый запуск обучения"
   ]
  },
  {
   "cell_type": "code",
   "execution_count": null,
   "id": "b59cd2d6",
   "metadata": {
    "vscode": {
     "languageId": "plaintext"
    }
   },
   "outputs": [],
   "source": [
    "print(\"--- Запускаю первый эксперимент ---\")\n",
    "train.main()\n",
    "print(\"--- Первый эксперимент завершен ---\")"
   ]
  },
  {
   "cell_type": "markdown",
   "id": "64e7e4ab",
   "metadata": {},
   "source": [
    "Загрузка и проверка результатов первого запуска"
   ]
  },
  {
   "cell_type": "code",
   "execution_count": null,
   "id": "0a84b297",
   "metadata": {
    "vscode": {
     "languageId": "plaintext"
    }
   },
   "outputs": [],
   "source": [
    "# Путь к файлу с результатами\n",
    "run_path_1 = Path(f\"../runs/run_seed{train.SEED}.json\")\n",
    "\n",
    "# Читаем JSON и извлекаем нужные данные\n",
    "with open(run_path_1) as f:\n",
    "    run_data_1 = json.load(f)\n",
    "\n",
    "loss1 = run_data_1['results']['final_loss']\n",
    "sha1 = run_data_1['artifacts']['model_sha256']\n",
    "\n",
    "print(\"Результаты первого запуска:\")\n",
    "print(f\"  Final Loss: {loss1:.8f}\")\n",
    "print(f\"  Model SHA256: {sha1}\")"
   ]
  },
  {
   "cell_type": "markdown",
   "id": "4b376df2",
   "metadata": {},
   "source": [
    "Второй запуск обучения"
   ]
  },
  {
   "cell_type": "code",
   "execution_count": null,
   "id": "9bce4319",
   "metadata": {
    "vscode": {
     "languageId": "plaintext"
    }
   },
   "outputs": [],
   "source": [
    "print(\"\\n--- Запускаю второй эксперимент ---\")\n",
    "train.main()\n",
    "print(\"--- Второй эксперимент завершен ---\")"
   ]
  },
  {
   "cell_type": "markdown",
   "id": "911ed128",
   "metadata": {},
   "source": [
    "Загрузка и проверка результатов второго запуска"
   ]
  },
  {
   "cell_type": "code",
   "execution_count": null,
   "id": "b6a383c0",
   "metadata": {
    "vscode": {
     "languageId": "plaintext"
    }
   },
   "outputs": [],
   "source": [
    "# Путь тот же самый\n",
    "run_path_2 = Path(f\"../runs/run_seed{train.SEED}.json\")\n",
    "\n",
    "with open(run_path_2) as f:\n",
    "    run_data_2 = json.load(f)\n",
    "\n",
    "loss2 = run_data_2['results']['final_loss']\n",
    "sha2 = run_data_2['artifacts']['model_sha256']\n",
    "\n",
    "print(\"Результаты второго запуска:\")\n",
    "print(f\"  Final Loss: {loss2:.8f}\")\n",
    "print(f\"  Model SHA256: {sha2}\")"
   ]
  },
  {
   "cell_type": "markdown",
   "id": "3bfc4e85",
   "metadata": {},
   "source": [
    "Финальное сравнение"
   ]
  },
  {
   "cell_type": "code",
   "execution_count": null,
   "id": "d42b1f72",
   "metadata": {
    "vscode": {
     "languageId": "plaintext"
    }
   },
   "outputs": [],
   "source": [
    "TOLERANCE = 1e-8\n",
    "\n",
    "print(\"\\n--- Сравнение результатов ---\")\n",
    "\n",
    "# Проверяем, что ошибка совпадает с заданной точностью\n",
    "assert abs(loss1 - loss2) < TOLERANCE, f\"Ошибка! Значения loss не совпадают: {loss1} != {loss2}\"\n",
    "\n",
    "# Проверяем, что хэши моделей полностью идентичны\n",
    "assert sha1 == sha2, f\"Ошибка! Хэши моделей не совпадают: {sha1} != {sha2}\"\n",
    "\n",
    "print(\"\\n✅ Воспроизводимость подтверждена!\")\n",
    "print(\"   - Значения final_loss совпадают.\")\n",
    "print(\"   - Хэши SHA256 сохраненных моделей идентичны.\")"
   ]
  }
 ],
 "metadata": {
  "language_info": {
   "name": "python"
  }
 },
 "nbformat": 4,
 "nbformat_minor": 5
}
